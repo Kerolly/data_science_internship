{
 "cells": [
  {
   "cell_type": "code",
   "execution_count": 7,
   "id": "c50c172a",
   "metadata": {},
   "outputs": [],
   "source": [
    "import pandas as pd\n",
    "from sklearn.model_selection import train_test_split\n",
    "from sklearn.naive_bayes import GaussianNB\n",
    "from sklearn.metrics import classification_report, confusion_matrix\n",
    "import matplotlib.pyplot as plt\n",
    "import seaborn as sns\n",
    "\n",
    "\n",
    "# Load the dataset\n",
    "df = pd.read_csv('../data/results/hotel_booking_cancellation_prediction_one_hot_deposit.csv')"
   ]
  },
  {
   "cell_type": "code",
   "execution_count": 2,
   "id": "60af8ea9",
   "metadata": {},
   "outputs": [],
   "source": [
    "# Convert the months in 'arrival_date' to numerical values\n",
    "df['arrival_date_month'] = pd.to_datetime(df['arrival_date']).dt.month\n",
    "\n",
    "# Define the X \n",
    "X = df.drop(columns=['is_canceled', 'arrival_date', 'stays_in_weeks_nights',\n",
    "                      'children', 'babies'])\n",
    "\n",
    "\n",
    "\n",
    "# Target variable\n",
    "y = df['is_canceled']"
   ]
  },
  {
   "cell_type": "code",
   "execution_count": 5,
   "id": "a4ad0765",
   "metadata": {},
   "outputs": [
    {
     "name": "stdout",
     "output_type": "stream",
     "text": [
      "Raport de clasificare:\n",
      "               precision    recall  f1-score   support\n",
      "\n",
      "           0       0.87      0.50      0.63      1819\n",
      "           1       0.52      0.88      0.66      1138\n",
      "\n",
      "    accuracy                           0.65      2957\n",
      "   macro avg       0.70      0.69      0.65      2957\n",
      "weighted avg       0.74      0.65      0.64      2957\n",
      "\n"
     ]
    }
   ],
   "source": [
    "# Split the date 70% train/ 30% test\n",
    "X_train, X_test, y_train, y_test = train_test_split(\n",
    "    X, y, \n",
    "    test_size=0.3, \n",
    "    random_state=42,\n",
    ")\n",
    "\n",
    "# Train the model\n",
    "model = GaussianNB()\n",
    "model.fit(X_train, y_train)\n",
    "\n",
    "# Evaluation\n",
    "y_pred = model.predict(X_test)\n",
    "\n",
    "print(\"Raport de clasificare:\\n\", classification_report(y_test, y_pred))"
   ]
  }
 ],
 "metadata": {
  "kernelspec": {
   "display_name": "venv",
   "language": "python",
   "name": "python3"
  },
  "language_info": {
   "codemirror_mode": {
    "name": "ipython",
    "version": 3
   },
   "file_extension": ".py",
   "mimetype": "text/x-python",
   "name": "python",
   "nbconvert_exporter": "python",
   "pygments_lexer": "ipython3",
   "version": "3.13.3"
  }
 },
 "nbformat": 4,
 "nbformat_minor": 5
}
